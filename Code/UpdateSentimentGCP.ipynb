{
 "cells": [
  {
   "cell_type": "code",
   "execution_count": null,
   "metadata": {},
   "outputs": [],
   "source": [
    "from google.cloud import bigquery\n",
    "from datetime import datetime\n",
    "\n",
    "client = bigquery.Client()\n",
    "\n",
    "\n",
    "sql = \"\"\"\n",
    "   UPDATE  sns.tweets\n",
    "     SET sentiment = @sentiment\n",
    "   WHERE id = @id\n",
    "   \"\"\"\n",
    "   \n",
    "   \n",
    "sentiment=\"positive\"\n",
    "id=\"1568948724881137667\"\n",
    "\n",
    "\n",
    "job_config = bigquery.QueryJobConfig(\n",
    "    query_parameters=[\n",
    "        bigquery.ScalarQueryParameter(\"sentiment\", \"STRING\", sentiment),\n",
    "        bigquery.ScalarQueryParameter(\"id\", \"STRING\", id)\n",
    "    ]\n",
    ")\n",
    "\n",
    "query_job = client.query(sql, job_config=job_config) \n",
    "results = query_job.result()  # Wait for the job to complete.\n",
    "print(results)"
   ]
  },
  {
   "cell_type": "code",
   "execution_count": null,
   "metadata": {},
   "outputs": [],
   "source": [
    "from google.cloud import bigquery\n",
    "from datetime import datetime\n",
    "import pandas as pd\n",
    "import nltk\n",
    "from nltk.sentiment.vader import SentimentIntensityAnalyzer\n",
    "\n",
    "\n",
    "client = bigquery.Client()\n",
    "\n",
    "sql = \"\"\"\n",
    "   UPDATE  sns.tweets\n",
    "     SET sentiment = @sentiment\n",
    "   WHERE id = @id\n",
    "   \"\"\"\n",
    "   \n",
    "sql2 = \"\"\"\n",
    "SELECT  id ,text FROM `snsdisasteralert-372409.sns.tweets` WHERE sentiment is null limit 1000\n",
    "\"\"\"\n",
    "\n",
    "def analyze_sentiment(text):\n",
    "    # Crée un objet SentimentIntensityAnalyzer\n",
    "    analyzer = SentimentIntensityAnalyzer()\n",
    "    \n",
    "    # Analyse le sentiment du tweet\n",
    "    sentiment = analyzer.polarity_scores(text)\n",
    "    # Détermine le sentiment le plus probable\n",
    "    if sentiment['compound'] >= 0.05:\n",
    "        sentiment_label = 'positive'\n",
    "    elif sentiment['compound'] <= -0.05:\n",
    "        sentiment_label = 'negative'\n",
    "    else:\n",
    "        sentiment_label = 'neutral'\n",
    "\n",
    "    # Retourne la liste des résultats\n",
    "    return sentiment_label\n",
    "\n",
    "df = client.query(sql2).to_dataframe()\n",
    "i =0\n",
    "\n",
    "for index, row in df.iterrows():\n",
    "    \n",
    "    sentiment = analyze_sentiment(row['text'])\n",
    "    job_config = bigquery.QueryJobConfig(\n",
    "    query_parameters=[\n",
    "        bigquery.ScalarQueryParameter(\"sentiment\", \"STRING\", sentiment),\n",
    "        bigquery.ScalarQueryParameter(\"id\", \"STRING\", row['id'])\n",
    "    ]\n",
    "    )\n",
    "    i+=1\n",
    "    query_job = client.query(sql, job_config=job_config) \n",
    "    results = query_job.result()  # Wait for the job to complete.\n",
    "    print(results,\"   \", i)"
   ]
  }
 ],
 "metadata": {
  "kernelspec": {
   "display_name": "venv",
   "language": "python",
   "name": "python3"
  },
  "language_info": {
   "codemirror_mode": {
    "name": "ipython",
    "version": 3
   },
   "file_extension": ".py",
   "mimetype": "text/x-python",
   "name": "python",
   "nbconvert_exporter": "python",
   "pygments_lexer": "ipython3",
   "version": "3.10.9 (tags/v3.10.9:1dd9be6, Dec  6 2022, 20:01:21) [MSC v.1934 64 bit (AMD64)]"
  },
  "orig_nbformat": 4,
  "vscode": {
   "interpreter": {
    "hash": "3b67bd121c3510232962bf278a05f426090fd241d54c598e469c0a0593f14ed7"
   }
  }
 },
 "nbformat": 4,
 "nbformat_minor": 2
}
