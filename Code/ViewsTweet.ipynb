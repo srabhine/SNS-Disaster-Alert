{
 "cells": [
  {
   "cell_type": "code",
   "execution_count": 1,
   "metadata": {},
   "outputs": [],
   "source": [
    "import time\n",
    "import requests\n",
    "import pandas as pd"
   ]
  },
  {
   "cell_type": "code",
   "execution_count": 2,
   "metadata": {},
   "outputs": [],
   "source": [
    "bearer_token=\"AAAAAAAAAAAAAAAAAAAAAAT4iAEAAAAAd07UAVq82fIOZm29Yfoqvf6qsMQ%3DlCeqKkZMtJh0mZynK5cyNYzZO70X0tfkvCaokbkyu3SYpJxB8x\"\n",
    "def bearer_oauth(r):\n",
    "    \"\"\"\n",
    "    Method required by bearer token authentication.\n",
    "    \"\"\"\n",
    "\n",
    "    r.headers[\"Authorization\"] = f\"Bearer {bearer_token}\"\n",
    "    r.headers[\"User-Agent\"] = \"v2FullArchiveSearchPython\"\n",
    "    return r"
   ]
  },
  {
   "cell_type": "code",
   "execution_count": 3,
   "metadata": {},
   "outputs": [],
   "source": [
    "user_id = \"1603715536013099009\"\n",
    "search_url = \"https://api.twitter.com/2/tweets/{}?tweet.fields=public_metrics&expansions=attachments.media_keys&media.fields=public_metrics,non_public_metrics\".format(user_id)\n",
    "query_params={}"
   ]
  },
  {
   "cell_type": "code",
   "execution_count": 4,
   "metadata": {},
   "outputs": [],
   "source": [
    "# Number of requests allowed per time window\n",
    "RATE_LIMIT = 15\n",
    "# Time window (in seconds)\n",
    "TIME_WINDOW = 15\n",
    "\n",
    "# Bucket for tracking remaining requests\n",
    "bucket = RATE_LIMIT\n",
    "# Timestamp of last bucket refill\n",
    "last_refill = time.time()\n",
    "\n",
    "def connect_to_endpoint(url, params):\n",
    "    global bucket\n",
    "    global last_refill\n",
    "    # Check if bucket is empty\n",
    "    if bucket <= 0:\n",
    "        # Check if time window has expired\n",
    "        current_time = time.time()\n",
    "        if current_time - last_refill > TIME_WINDOW:\n",
    "            # Refill bucket and update timestamp\n",
    "            bucket = RATE_LIMIT\n",
    "            last_refill = current_time\n",
    "        else:\n",
    "            # Wait for time window to expire\n",
    "            time_to_wait = last_refill + TIME_WINDOW - current_time\n",
    "            time.sleep(time_to_wait)\n",
    "            bucket = RATE_LIMIT\n",
    "    # Send request\n",
    "    response = requests.request(\"GET\", url, auth=bearer_oauth, params=params)\n",
    "    print(response.status_code)\n",
    "    if response.status_code != 200:\n",
    "        raise Exception(response.status_code, response.text)\n",
    "    # Decrement bucket\n",
    "    bucket -= 1\n",
    "    return response"
   ]
  },
  {
   "cell_type": "code",
   "execution_count": 5,
   "metadata": {},
   "outputs": [
    {
     "name": "stdout",
     "output_type": "stream",
     "text": [
      "200\n",
      "{'data': {'id': '1603715536013099009', 'edit_history_tweet_ids': ['1603715536013099009'], 'public_metrics': {'retweet_count': 92, 'reply_count': 41, 'like_count': 624, 'quote_count': 3, 'impression_count': 44621}, 'text': 'Twitter has removed \"Twitter for Iphone\" and \"Twitter for Android\"\\nIf you can still see it update your app.'}}\n"
     ]
    }
   ],
   "source": [
    "followers = connect_to_endpoint(search_url, query_params)\n",
    "print(followers.json())"
   ]
  }
 ],
 "metadata": {
  "kernelspec": {
   "display_name": "Python 3",
   "language": "python",
   "name": "python3"
  },
  "language_info": {
   "codemirror_mode": {
    "name": "ipython",
    "version": 3
   },
   "file_extension": ".py",
   "mimetype": "text/x-python",
   "name": "python",
   "nbconvert_exporter": "python",
   "pygments_lexer": "ipython3",
   "version": "3.10.9 (tags/v3.10.9:1dd9be6, Dec  6 2022, 20:01:21) [MSC v.1934 64 bit (AMD64)]"
  },
  "orig_nbformat": 4,
  "vscode": {
   "interpreter": {
    "hash": "1d208fc92f63bff2dd80c97ffe5a57d134e87b05d2dbf0af794face5bab8487c"
   }
  }
 },
 "nbformat": 4,
 "nbformat_minor": 2
}
