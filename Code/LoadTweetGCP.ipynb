{
 "cells": [
  {
   "attachments": {},
   "cell_type": "markdown",
   "metadata": {},
   "source": [
    "# Load Data from GCP"
   ]
  },
  {
   "cell_type": "code",
   "execution_count": 6,
   "metadata": {},
   "outputs": [],
   "source": [
    "from google.cloud import bigquery\n",
    "from datetime import datetime\n",
    "\n",
    "client = bigquery.Client()\n",
    "\n",
    "sql = \"\"\"\n",
    "    SELECT id,author_id,followers_count,following_count,tag,created_at,text,pb.like_count\n",
    "    FROM `snsdisasteralert.sns_stream.tweets`\n",
    "    TABLESAMPLE SYSTEM (1 PERCENT),\n",
    "    UNNEST(public_metrics) AS pb\n",
    "    LIMIT 100\n",
    "\"\"\"\n",
    "\n",
    "df = client.query(sql).to_dataframe()"
   ]
  }
 ],
 "metadata": {
  "kernelspec": {
   "display_name": "Python 3.10.8 ('venv': venv)",
   "language": "python",
   "name": "python3"
  },
  "language_info": {
   "codemirror_mode": {
    "name": "ipython",
    "version": 3
   },
   "file_extension": ".py",
   "mimetype": "text/x-python",
   "name": "python",
   "nbconvert_exporter": "python",
   "pygments_lexer": "ipython3",
   "version": "3.10.8"
  },
  "orig_nbformat": 4,
  "vscode": {
   "interpreter": {
    "hash": "3b67bd121c3510232962bf278a05f426090fd241d54c598e469c0a0593f14ed7"
   }
  }
 },
 "nbformat": 4,
 "nbformat_minor": 2
}
